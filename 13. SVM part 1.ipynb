{
  "cells": [
    {
      "metadata": {
        "trusted": true,
        "_uuid": "ea9ab27b57fbc7617ef9a747c0bec9b083adb44b"
      },
      "cell_type": "markdown",
      "source": "# Support vector machine\n\n## Introduction \n\nIn this notebook we explore the support vector machine (SVM) algorithm. This is a supervised learning classification algorithm. For the sake of simplicity, we focus on the binary classification task; for multiple classes classification, one may perform a one-vs-rest or one-vs-one reduction. We start with the case of linearly separable datasets, in which case the main idea is to find the hyperplane that maximizes the margin (distance) to both classes. For non-linearly sepparable datasets, we allow points to cross the decision boundary up to a certain margin (in this case we say that the classificator has a *soft margin*). Finally, we can also use non-linear decision boundaries by making use of the kernel trick, which relies on the idea of implicit feature augmentation.\n\n## The model: linearly separable case\n\nSuppose we have a dataset $S = \\{(x^1,y^1),\\dots,(x^m,y^m) \\}\\subset \\mathbb{R}^n\\times\\{-1,1\\}$ consisting of pairs (features,class). Denote by $w$ the normal vector to the separating hyperplane $H$ and $a$ a position vector of such hyperplane. Then the points $z$ belonging to $H$ satisfy the equation\n\n$$\nw\\cdot(z-a) = w\\cdot z  - w\\cdot a = 0 .\n$$\n\nHere $\\cdot$ denotes the (Euclidian) inner product and we write $b = -w\\cdot a$. Suppose that $w$ is a unit vector. The hyperplane separates $\\mathbb{R}^n$ in three regions: $R_1 = \\{ x : w\\cdot x + b >0 \\}$, $R_2 = \\{ x : w\\cdot x + b < 0 \\}$ and $H$. In order for $H$ to be a separating hyperplane for our dataset, it is necessary that $x^j\\in R_1$ for all $j$ such that $y^j =1$ and $x^k \\in R_2$ for all $k$ such that $y^k = -1$ (or vice versa). This condition can be summarized by\n\n$$\ny^j(w\\cdot x^j + b) > 0\n$$\n\nfor all $j$. Assume now that $H$ is a separating plane for our dataset. Then the distance between a point $x^j$ and the hyperplane $H$ is given by \n\n$$\nd(x^j,H) = |(x^j-a)\\cdot w| = |x^j\\cdot w + b| = y^j(w\\cdot x^j + b).\n$$\n\nIf we want to maximize the size of the margin, then we want to find the parameters $w,b$ for the hyperplane $H$ such that $\\min_j d(x^j,H)= \\min_j  y^j(w\\cdot x^j + b)$ is maximal. In other words, we want to solve the optimization problem\n\n$$\n\\begin{align*}\n\\max_{w,b} &\\ M\\\\\n\\text{subject to } &y^j(w\\cdot x^j + b) \\geq M \\text{ for all } j, \\\\\n& \\| w \\| = 1.\n\\end{align*}\n$$\n\nWe can remove the constraint $\\|w\\| = 1$ by normalizing the distance by the norm of $w$. That is, the above problem is equivalent to \n\n$$\n\\begin{align*}\n\\max_{w,b} &\\ M/\\| w\\| \\\\\n\\text{subject to } &y^j(w\\cdot x^j + b) > M \\text{ for all } j. \\\\\n\\end{align*}\n$$\nIf we perform the coordinates transformation $w,b \\mapsto w/M ,b /M$, then we get the equivalent optimization problem:\n\n$$\n\\begin{align*}\n\\max_{w,b}\\ &\\|w\\|^{-1}\\\\\n\\text{subject to } &y^j(w\\cdot x^j + b) > 1 \\text{ for all } j. \\\\\n\\end{align*}\n$$\n\nThis is now equivalent to the convex minimization problem\n\n$$\n\\begin{align*}\n\\min_{w,b}\\ &\\dfrac{1}{2}\\|w\\|^2\\\\\n\\text{subject to } &y^j(w\\cdot x^j + b) > 1 \\text{ for all } j. \\\\\n\\end{align*}\n$$\n\nwith linear constraints."
    },
    {
      "metadata": {
        "trusted": true,
        "_uuid": "887f6e532cd105f54410f9eea7cd83ddcdb8c779"
      },
      "cell_type": "markdown",
      "source": "## Lagrangian form\n\nThe previous minimization problem can be formulated in its dual form by considering the lagrangian\n\n$$\n\\mathcal L (w,b,\\alpha) = -(\\dfrac{1}{2}\\|w\\|^2 - \\sum_{i=1}^m \\alpha_i (y^i(w\\cdot x^i + b) - 1 ))\n$$\n\nfor $\\alpha_i \\geq 0$. Solving the original (primal) problem, is equivalent to the minimization of the Lagrangiagian subject to the [Karush-Kuhn-Tucker conditions](https://en.wikipedia.org/wiki/Karush%E2%80%93Kuhn%E2%80%93Tucker_conditions). These conditions can be written as \n\n$$\n\\begin{align*}\n\\nabla_w \\mathcal{L} &= 0 , \\\\\n\\nabla_b \\mathcal{L} &= 0, \\\\\n\\alpha_i & \\geq 0, \\\\\n\\alpha_i (y^i(w\\cdot x^i + b) - 1 ) & = 0.\n\\end{align*}\n$$\n\nfor all $i$. The first two conditions can be written as\n\n$$\n\\begin{align*}\n\\nabla_w \\mathcal{L} =  -(w - \\sum_{i=1}^m \\alpha_i y^i x^i &)=   0, \\\\\n\\nabla_b \\mathcal{L} =   -\\sum_{i=1}^m \\alpha_i y^i &=   0 .\n\\end{align*}\n$$\n\nWith this conditions, the lagrangian can be reduced to\n\n$$\n\\begin{align*}\n\\mathcal L (w,b,\\alpha) &= -(\\dfrac{1}{2}\\|w\\|^2 - \\sum_{i=1}^m \\alpha_i (y^i(w\\cdot x^i + b) - 1 )) \\\\\n&= -(\\dfrac{1}{2}w\\cdot w - \\sum_{i=1}^m  (\\alpha_i y^i w\\cdot x^i + \\alpha_i y^i b - \\alpha_i )) \\\\\n&= -(\\dfrac{1}{2} \\sum_{i,j=1}^m \\alpha_i \\alpha_ j y^i  y^j x^i\\cdot x^j - \\sum_{i,j=1}^m \\alpha_i \\alpha_ j y^i  y^j x^i\\cdot x^j  + \\sum_{i=1}^m \\alpha_i )\\\\\n&=-\\sum_{i=1}^m \\alpha_i + \\dfrac{1}{2} \\sum_{i,j=1}^m \\alpha_i \\alpha_ j y^i  y^j x^i\\cdot x^j\n\\end{align*}\n$$\n\nThis is a quadatic problem that can be solved using the usual optimization tools. We proceed to implement the algorithm. Once the optimization is solved, for a new observation $x$, we can predict its class by\n\n$$\n\\widehat y = \\mathrm{sign}(w\\cdot x + b).\n$$\n\nFor this, we need the values of $w$ and $b$ as a function of the training data and the parameters $\\alpha_i$. An expression for $w$ follows directly from the KKT conditions. For $b$, we can get a condition by subtracting the equation $(y^i(w\\cdot x^i + b) - 1 )  = 0$ for two indices $i,j$  such that $\\alpha_s,\\alpha_t >0$ and $y^s = 1$, $y^t=-1$, and then solving for $b$. Thus we obtain\n\n$$\n\\begin{align*}\nw &= \\sum_{i=1}^m \\alpha_i y^i x^i  ,\\\\\nb &= -\\dfrac{1}{2}w\\cdot (x^s+x^t).\n\\end{align*}\n$$\n\nThe vectors $x^i$ so that $\\alpha_i > 0$ are called the **support vectors**, and the separating hyperplane is completely defined by them."
    },
    {
      "metadata": {
        "trusted": true,
        "_uuid": "bad345e3bbb070073830b35876e66e8606756d9f"
      },
      "cell_type": "markdown",
      "source": "## Implementation\n\nIn this section we implement the algorithm described above. We start by implementing the usual scientific libraries. This time, we will use `scipy` minimizing tool:"
    },
    {
      "metadata": {
        "trusted": true,
        "_uuid": "f8a0d13fd5d6c5ad71612970ce8490fa47f02e30"
      },
      "cell_type": "code",
      "source": "import numpy as np\nimport matplotlib.pyplot as plt\nfrom scipy.optimize import minimize",
      "execution_count": 1,
      "outputs": []
    },
    {
      "metadata": {
        "trusted": true,
        "_uuid": "617875a12555609e9edfe89819d68a503fc87247"
      },
      "cell_type": "markdown",
      "source": "We generate two classes of points which are linearly separable. We fix a seed of random numbers so we always get the same dataset:"
    },
    {
      "metadata": {
        "trusted": true,
        "_uuid": "1527939ac76db262eeebe28cf3092d647075ed7e"
      },
      "cell_type": "code",
      "source": "np.random.seed(6)\nclass_0 = 25 \nclass_1 = 25\n\nx0 = np.random.multivariate_normal([-2, 0], [[1, .15],[.15, 1]], class_0)\nx1 = np.random.multivariate_normal([3, 2], [[1, .25],[.25, 1]], class_1)\n\nplt.plot(x0[:,0],x0[:,1],'x',color='red')\nplt.plot(x1[:,0],x1[:,1],'x',color='blue')\nplt.figtext(0.5, 0.01, 'Figure 1: two Gaussian clouds of points. Red points represent class 1 and blue class 0', \n            wrap=True, horizontalalignment='center', fontsize=12)\nplt.axis('equal')\nplt.show()\n\ny0 = -np.ones(len(x0))\ny1 = np.ones(len(x1))\n\nX_train =  np.vstack((x0,x1))\ny_train = np.append(y0,y1)",
      "execution_count": 2,
      "outputs": [
        {
          "output_type": "display_data",
          "data": {
            "text/plain": "<Figure size 432x288 with 1 Axes>",
            "image/png": "[encoded data removed]"
          },
          "metadata": {}
        }
      ]
    },
    {
      "metadata": {
        "trusted": true,
        "_uuid": "96404aa419f0afcb1b393dcd175c9ffabdc243c1"
      },
      "cell_type": "markdown",
      "source": "We compute the matrix containing the inner products of the points of the dataset."
    },
    {
      "metadata": {
        "trusted": true,
        "_uuid": "a5165bdaa07a0f94d387c2d3b6fb2f5754ca7510"
      },
      "cell_type": "code",
      "source": "def inner_prods(X_train):\n    return np.dot(X_train,X_train.T)",
      "execution_count": 3,
      "outputs": []
    },
    {
      "metadata": {
        "_uuid": "15af46d41d392d59fc5988e6213a6dc93034a8e7"
      },
      "cell_type": "markdown",
      "source": "With this, we can write the cost function as:"
    },
    {
      "metadata": {
        "trusted": true,
        "_uuid": "6a83a7499ebe162cc407b85b26493c0d1ef9abbd"
      },
      "cell_type": "code",
      "source": "def cost(alpha): \n    return -(np.sum(alpha) - (1/2)*np.dot(np.multiply(alpha,y_train),\n                                        np.dot(inner_prods(X_train),np.multiply(alpha,y_train))))",
      "execution_count": 4,
      "outputs": []
    },
    {
      "metadata": {
        "_uuid": "f8c74947cc7f78563b2a6cfd2ac24b10cad9b3ac"
      },
      "cell_type": "markdown",
      "source": "We define the constraint given by the KKT conditions. This is of the form $\\sum_{i=1}^m \\alpha_i y^i = 0$."
    },
    {
      "metadata": {
        "trusted": true,
        "_uuid": "565e648ae4ec0623dfa1c79171af121bc753e0aa"
      },
      "cell_type": "code",
      "source": "def cons1(alpha):\n    return np.dot(alpha,y_train)\n\ncons = ({'type': 'eq', 'fun': cons1})",
      "execution_count": 5,
      "outputs": []
    },
    {
      "metadata": {
        "_uuid": "c329f3b3b2067cc037b09d059618db2a5831cbed"
      },
      "cell_type": "markdown",
      "source": "We also set the conditions for the Lagrange multipliers: $\\alpha_i \\geq 0$:"
    },
    {
      "metadata": {
        "trusted": true,
        "_uuid": "ec4c8ee6382e84eb3d572a1302eb925d04d23407"
      },
      "cell_type": "code",
      "source": "bds = [(0,None) for _ in range(len(X_train))]",
      "execution_count": 6,
      "outputs": []
    },
    {
      "metadata": {
        "_uuid": "0fee47d9ba66f8bc42dec14848557508a9435ae5"
      },
      "cell_type": "markdown",
      "source": "Now, we need an initial guess for the value of $\\alpha_i$ for the optimizer:"
    },
    {
      "metadata": {
        "trusted": true,
        "_uuid": "23cb29a47e86344313477bf65fd09dcd746791a5"
      },
      "cell_type": "code",
      "source": "alpha = np.random.random(len(X_train))",
      "execution_count": 7,
      "outputs": []
    },
    {
      "metadata": {
        "_uuid": "196bbeb5cd0b41db7f4f6059040056ae9a2ac6a4"
      },
      "cell_type": "markdown",
      "source": "Finally, we optimize the cost function "
    },
    {
      "metadata": {
        "trusted": true,
        "_uuid": "58420d8706d87d2695faac8d82f59da1f6352099"
      },
      "cell_type": "code",
      "source": "res = minimize(cost, alpha , bounds=bds, constraints=cons)",
      "execution_count": 8,
      "outputs": []
    },
    {
      "metadata": {
        "_uuid": "692ac353c202e4de221de9388e6e9261a492ba48"
      },
      "cell_type": "markdown",
      "source": "We recover the values of $\\alpha_i$ that optimize the Lagrangian:"
    },
    {
      "metadata": {
        "trusted": true,
        "_uuid": "5c6343f0598677e5eaccaa893d203cb309117a9a"
      },
      "cell_type": "code",
      "source": "alpha = res.x",
      "execution_count": 9,
      "outputs": []
    },
    {
      "metadata": {
        "_uuid": "25f31cfc13796b8a5006daa8531c1d93868a79e7"
      },
      "cell_type": "markdown",
      "source": "We will set to zero the values $\\alpha_i$ which are smaller than $10^{-7}$:"
    },
    {
      "metadata": {
        "trusted": true,
        "scrolled": true,
        "_uuid": "5001faa00b97641f2bd3c05792d5bd06cac7a4b1"
      },
      "cell_type": "code",
      "source": "alpha = alpha*(1*(alpha > 10**(-7)))",
      "execution_count": 10,
      "outputs": []
    },
    {
      "metadata": {
        "_uuid": "073f23d46de099555abd7e1d6a2a652dcfe25e2f"
      },
      "cell_type": "markdown",
      "source": "We can now construct the parameters $w,b$:"
    },
    {
      "metadata": {
        "trusted": true,
        "_uuid": "ed71dd719b6a20e6eb2cae497d2e2d5e17cb8e81"
      },
      "cell_type": "code",
      "source": "w = 0\nfor i in range(len(X_train)):\n    w += y_train[i]*alpha[i]*X_train[i,:]\n\nb = (-1/2)* np.dot(w,X_train[((alpha > 0) & (y_train == 1))][0] + \n                   X_train[((alpha > 0) & (y_train == -1))][0] )",
      "execution_count": 11,
      "outputs": []
    },
    {
      "metadata": {
        "_uuid": "0d1d4676674ebce1c8abd1da0ebc30b5e9dc7f34"
      },
      "cell_type": "markdown",
      "source": "With this, we can build the prediction function:"
    },
    {
      "metadata": {
        "trusted": true,
        "_uuid": "1440c5e3027132f81c60c51c40a92db7a6a5da22"
      },
      "cell_type": "code",
      "source": "def predict(x,w,b):\n    return np.sign(np.dot(x,w)+b)",
      "execution_count": 12,
      "outputs": []
    },
    {
      "metadata": {
        "_uuid": "4642ebb91cbb509cc2077fe26ad2c86968e4ef5c"
      },
      "cell_type": "markdown",
      "source": "Finally, we can plot the decision boundary given by the SVM as well as the regions predicted for each class. We can see how the separating hyperplane maximizes the margin to both classes."
    },
    {
      "metadata": {
        "trusted": true,
        "_uuid": "98a44a029aeef73ae3b5434bcde4338df1f66e23"
      },
      "cell_type": "code",
      "source": "plt.plot(x0[:,0],x0[:,1],'x',color='red')\nplt.plot(x1[:,0],x1[:,1],'x',color='blue')\nplt.figtext(0.5, 0.01, 'Figure 2: SVM decision boundary', \n            wrap=True, horizontalalignment='center', fontsize=12)\n\nx = np.linspace(-5, 5, 200)\ny = np.linspace(-5, 5, 200)\nX, Y = np.meshgrid(x, y)\nz = np.zeros(X.shape)\nZ = np.array(z)\nfor i in range(Z.shape[0]):\n    for j in range(Z.shape[1]):\n        Z[i,j] = predict(np.array([x[j],y[i]]).reshape(1,2),w,b)\nplt.contourf(X, Y, Z, alpha=.5, cmap='jet_r')\nC = plt.contour(X, Y, Z,  colors='black',zorder=4)\nplt.axis('equal')\nplt.show()",
      "execution_count": 13,
      "outputs": [
        {
          "output_type": "display_data",
          "data": {
            "text/plain": "<Figure size 432x288 with 1 Axes>",
            "image/png": "[encoded data removed]"
          },
          "metadata": {}
        }
      ]
    },
    {
      "metadata": {
        "_uuid": "835d5be8da0bf460e03d0b95a95c6b06fa6727d0"
      },
      "cell_type": "markdown",
      "source": "We can check the support vectors and plot them together with the separating hyperplane"
    },
    {
      "metadata": {
        "trusted": true,
        "_uuid": "282b83ac5feca00c626be63acdb19d2735fbf967"
      },
      "cell_type": "code",
      "source": "sup_vect = X_train[alpha > 0]\nsup_vect",
      "execution_count": 14,
      "outputs": [
        {
          "output_type": "execute_result",
          "execution_count": 14,
          "data": {
            "text/plain": "array([[0.15695433, 1.0690201 ],\n       [0.76728419, 1.90999537],\n       [1.06908872, 0.91924923]])"
          },
          "metadata": {}
        }
      ]
    },
    {
      "metadata": {
        "trusted": true,
        "_uuid": "dc5a969d0d5e50c1b52abd8c6acbf06eb9e83bbd"
      },
      "cell_type": "code",
      "source": "plt.plot(x0[:,0],x0[:,1],'x',color='red')\nplt.plot(x1[:,0],x1[:,1],'x',color='blue')\nplt.figtext(0.5, 0.01, 'Figure 3: support vectors defining the separating hyperplane', \n            wrap=True, horizontalalignment='center', fontsize=12)\n\nx = np.linspace(-5, 5, 200)\ny = np.linspace(-5, 5, 200)\nX, Y = np.meshgrid(x, y)\nplt.contourf(X, Y, Z, alpha=.5, cmap='jet_r')\nC = plt.contour(X, Y, Z,  colors='black',zorder=4)\nplt.plot(sup_vect[:,0],sup_vect[:,1],'o',color='green')\n\n\nplt.axis('equal')\nplt.show()",
      "execution_count": 15,
      "outputs": [
        {
          "output_type": "display_data",
          "data": {
            "text/plain": "<Figure size 432x288 with 1 Axes>",
            "image/png": "[encoded data removed]"
          },
          "metadata": {}
        }
      ]
    },
    {
      "metadata": {
        "trusted": true,
        "_uuid": "3794d4d5b722d19532d5039af6861a077e3a4552"
      },
      "cell_type": "markdown",
      "source": "## Final remarks\n\nIn this notebook we explored the most basic setup for a support vector machine. In the next notebooks, we will explore the non-linearly separable case as well as the usa of kernels for introducing non-linear decision boundaries."
    }
  ],
  "metadata": {
    "kernelspec": {
      "display_name": "Python 3",
      "language": "python",
      "name": "python3"
    },
    "language_info": {
      "name": "python",
      "version": "3.6.6",
      "mimetype": "text/x-python",
      "codemirror_mode": {
        "name": "ipython",
        "version": 3
      },
      "pygments_lexer": "ipython3",
      "nbconvert_exporter": "python",
      "file_extension": ".py"
    }
  },
  "nbformat": 4,
  "nbformat_minor": 1
}