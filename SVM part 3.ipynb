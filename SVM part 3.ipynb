{
  "cells": [
    {
      "metadata": {
        "trusted": true,
        "_uuid": "ea9ab27b57fbc7617ef9a747c0bec9b083adb44b"
      },
      "cell_type": "markdown",
      "source": "# Support vector machine, part 3: kernels\n\n## Introduction \n\nIn this third part, we study the kernel trick to implement support vector machines with non-linear boundaries. This allows us to embed our dataset in higher dimensional spaces, including infinite dimensional Hilbert spaces. This is done without using the explicit embedding but rather the inner products between the image of the data points. The main idea is that in the higher dimensional space, the new features that capture the underlying relations between data points and responses. \n\n## Embedding in higher dimensions\n\nSuppose we have a dataset $S = \\{(x^1,y^1),\\dots,(x^m,y^m) \\}\\subset \\mathbb{R}^n\\times\\{-1,1\\}$ consisting of pairs (features,class). Let $\\mathcal{H}$ be a real Hilbert space endowed with an inner product $(\\cdot,\\cdot)_\\mathcal{H}\\colon\\mathcal{H}\\times\\mathcal{H}\\to\\mathbb{R}$. We will denote $(x,y)_\\mathcal{H} = x\\cdot y$. Suppose that we have an embedding $\\varphi\\colon\\mathbb{R}^n\\to\\mathcal{H}$. \n\n## Linear SVM in $\\mathcal{H}$\n\nNow that we have embedded the data into $\\mathcal{H}$, we use a linear SVM (with soft margin) to separate the datasets in two classes. For this, our new dataset is $\\{(\\varphi(x^1),y^1),\\ldots,(\\varphi(x^m),y^m) \\}$. From the previous notebook, the optimization problem is then:"
    },
    {
      "metadata": {
        "trusted": true,
        "_uuid": "887f6e532cd105f54410f9eea7cd83ddcdb8c779"
      },
      "cell_type": "markdown",
      "source": ""
    },
    {
      "metadata": {
        "trusted": true,
        "_uuid": "bad345e3bbb070073830b35876e66e8606756d9f"
      },
      "cell_type": "markdown",
      "source": "## Implementation\n\nIn this section we implement the algorithm described above. We start by implementing the usual scientific libraries. This time, we will use `scipy` minimizing tool:"
    },
    {
      "metadata": {
        "trusted": true,
        "_uuid": "f8a0d13fd5d6c5ad71612970ce8490fa47f02e30"
      },
      "cell_type": "code",
      "source": "import numpy as np\nimport matplotlib.pyplot as plt\nfrom scipy.optimize import minimize",
      "execution_count": 1,
      "outputs": []
    },
    {
      "metadata": {
        "trusted": true,
        "_uuid": "617875a12555609e9edfe89819d68a503fc87247"
      },
      "cell_type": "markdown",
      "source": "![](http://)We generate two classes of points which are linearly separable. We fix a seed of random numbers so we always get the same dataset:"
    },
    {
      "metadata": {
        "trusted": true,
        "_uuid": "1527939ac76db262eeebe28cf3092d647075ed7e"
      },
      "cell_type": "code",
      "source": "np.random.seed(2)\nclass_0 = 15 \nclass_1 = 15\n\nx0 = np.random.multivariate_normal([-2, 0], [[1, .15],[.15, 1]], class_0)\nx1 = np.random.multivariate_normal([1, 0], [[1, .25],[.25, 1]], class_1)\nx2 = np.random.multivariate_normal([1, -3], [[1, .25],[.25, 1]], class_0)\n\nplt.plot(x0[:,0],x0[:,1],'x',color='red')\nplt.plot(x1[:,0],x1[:,1],'x',color='blue')\nplt.plot(x2[:,0],x2[:,1],'x',color='red')\nplt.figtext(0.5, 0.01, 'Figure 1: two Gaussian clouds of points. Red points represent class 1 and blue class 0', \n            wrap=True, horizontalalignment='center', fontsize=12)\nplt.axis('equal')\nplt.show()\n\ny0 = -np.ones(len(x0))\ny1 = np.ones(len(x1))\ny2 = -np.ones(len(x2))\n\nX_train =  np.vstack((np.vstack((x0,x1)),x2))\ny_train = np.append(np.append(y0,y1),y2)",
      "execution_count": 2,
      "outputs": [
        {
          "output_type": "display_data",
          "data": {
            "text/plain": "<Figure size 432x288 with 1 Axes>",
            "image/png": "[encoded data removed]"
          },
          "metadata": {}
        }
      ]
    },
    {
      "metadata": {
        "trusted": true,
        "_uuid": "96404aa419f0afcb1b393dcd175c9ffabdc243c1"
      },
      "cell_type": "markdown",
      "source": "We compute the matrix containing the inner products of the points of the dataset. We include different options for different kernels"
    },
    {
      "metadata": {
        "trusted": true,
        "_uuid": "bf5da556458147a1256d8a723814f804743381ff"
      },
      "cell_type": "code",
      "source": "",
      "execution_count": null,
      "outputs": []
    },
    {
      "metadata": {
        "trusted": true,
        "_uuid": "a5165bdaa07a0f94d387c2d3b6fb2f5754ca7510"
      },
      "cell_type": "code",
      "source": "def inner_prod(x,y,kernel='rbf',c=1,deg = 2):\n    if kernel == 'rbf':\n        return np.exp((-1/(2*(c**2))*np.dot(x-y,x-y)))\n    elif kernel == 'poly':\n        return (c+np.dot(x,y))**deg\n    else:\n        return np.dot(x,y)",
      "execution_count": 3,
      "outputs": []
    },
    {
      "metadata": {
        "trusted": true,
        "_uuid": "a28cc4397986f963fdc4fd73d6a9728e8a8912b1"
      },
      "cell_type": "code",
      "source": "#matrix with all training inner products\nkernel = 'rbf'\nc = 1\ndeg = 15\n\nH = np.zeros([X_train.shape[0],X_train.shape[0]])\nfor i in range(len(H)):\n    for j in range(len(H)):\n        H[i,j] = y_train[i]*y_train[j]*inner_prod(X_train[i,:],X_train[j,:],kernel=kernel,c=c,deg = deg)",
      "execution_count": 4,
      "outputs": []
    },
    {
      "metadata": {
        "_uuid": "15af46d41d392d59fc5988e6213a6dc93034a8e7"
      },
      "cell_type": "markdown",
      "source": "With this, we can write the cost function as:"
    },
    {
      "metadata": {
        "trusted": true,
        "_uuid": "6a83a7499ebe162cc407b85b26493c0d1ef9abbd"
      },
      "cell_type": "code",
      "source": "def cost(alpha): \n    return -(np.sum(alpha) - (1/2)*np.dot(alpha,\n                                        np.dot(H,alpha)))",
      "execution_count": 5,
      "outputs": []
    },
    {
      "metadata": {
        "_uuid": "f8c74947cc7f78563b2a6cfd2ac24b10cad9b3ac"
      },
      "cell_type": "markdown",
      "source": "We define the constraint given by the KKT conditions. This is of the form $\\sum_{i=1}^m \\alpha_i y^i = 0$."
    },
    {
      "metadata": {
        "trusted": true,
        "_uuid": "565e648ae4ec0623dfa1c79171af121bc753e0aa"
      },
      "cell_type": "code",
      "source": "def cons1(alpha):\n    return np.dot(alpha,y_train)\n\ncons = ({'type': 'eq', 'fun': cons1})",
      "execution_count": 6,
      "outputs": []
    },
    {
      "metadata": {
        "_uuid": "c329f3b3b2067cc037b09d059618db2a5831cbed"
      },
      "cell_type": "markdown",
      "source": "We also set the conditions for the Lagrange multipliers: $C > \\alpha_i \\geq 0$:"
    },
    {
      "metadata": {
        "trusted": true,
        "_uuid": "ec4c8ee6382e84eb3d572a1302eb925d04d23407"
      },
      "cell_type": "code",
      "source": "C = 100\nbds = [(0,C) for _ in range(len(X_train))]",
      "execution_count": 8,
      "outputs": []
    },
    {
      "metadata": {
        "_uuid": "0fee47d9ba66f8bc42dec14848557508a9435ae5"
      },
      "cell_type": "markdown",
      "source": "Now, we need an initial guess for the value of $\\alpha_i$ for the optimizer:"
    },
    {
      "metadata": {
        "trusted": true,
        "_uuid": "23cb29a47e86344313477bf65fd09dcd746791a5"
      },
      "cell_type": "code",
      "source": "alpha = np.random.random(len(X_train))",
      "execution_count": 9,
      "outputs": []
    },
    {
      "metadata": {
        "_uuid": "196bbeb5cd0b41db7f4f6059040056ae9a2ac6a4"
      },
      "cell_type": "markdown",
      "source": "Finally, we optimize the cost function "
    },
    {
      "metadata": {
        "trusted": true,
        "_uuid": "58420d8706d87d2695faac8d82f59da1f6352099"
      },
      "cell_type": "code",
      "source": "res = minimize(cost, alpha , bounds=bds, constraints=cons)",
      "execution_count": 10,
      "outputs": []
    },
    {
      "metadata": {
        "_uuid": "692ac353c202e4de221de9388e6e9261a492ba48"
      },
      "cell_type": "markdown",
      "source": "We recover the values of $\\alpha_i$ that optimize the Lagrangian:"
    },
    {
      "metadata": {
        "trusted": true,
        "_uuid": "5c6343f0598677e5eaccaa893d203cb309117a9a"
      },
      "cell_type": "code",
      "source": "alpha = res.x",
      "execution_count": 11,
      "outputs": []
    },
    {
      "metadata": {
        "_uuid": "25f31cfc13796b8a5006daa8531c1d93868a79e7"
      },
      "cell_type": "markdown",
      "source": "We will set to zero the values $\\alpha_i$ which are smaller than $10^{-7}$:"
    },
    {
      "metadata": {
        "trusted": true,
        "scrolled": true,
        "_uuid": "5001faa00b97641f2bd3c05792d5bd06cac7a4b1"
      },
      "cell_type": "code",
      "source": "alpha = alpha*(1*(alpha > 10**(-7)))",
      "execution_count": 12,
      "outputs": []
    },
    {
      "metadata": {
        "trusted": true,
        "_uuid": "41ff83339fedb3ec6aa41fd66b900541c1533f18"
      },
      "cell_type": "code",
      "source": "alpha*(1*(alpha > 10**(-7)))",
      "execution_count": 13,
      "outputs": [
        {
          "output_type": "execute_result",
          "execution_count": 13,
          "data": {
            "text/plain": "array([  0.        ,   2.87683768, 100.        ,   0.        ,\n         9.29167568,   0.20167876,   0.        ,   0.        ,\n         0.        ,   0.        ,   0.        ,   0.        ,\n         0.        ,  13.02383098,   0.        ,  24.91246229,\n         1.68427975,  97.35861369,  24.70707819,   0.        ,\n         0.        ,   0.        ,  15.77523994,   0.        ,\n         0.        ,   8.98436149,   0.        ,   0.        ,\n         0.        ,  22.66828497,   0.        ,   0.        ,\n        15.7406182 ,   0.        ,   0.        ,   0.        ,\n         0.        ,  52.82957441,   0.        ,   0.24322937,\n         0.        ,   1.88287524,   0.        ,   0.        ,\n         0.        ])"
          },
          "metadata": {}
        }
      ]
    },
    {
      "metadata": {
        "_uuid": "073f23d46de099555abd7e1d6a2a652dcfe25e2f"
      },
      "cell_type": "markdown",
      "source": "We can now construct the parameters $w,b$:"
    },
    {
      "metadata": {
        "trusted": true,
        "_uuid": "ed71dd719b6a20e6eb2cae497d2e2d5e17cb8e81"
      },
      "cell_type": "code",
      "source": "sup_vec, sup_lab = (X_train[(alpha > 0) & (alpha < C)])[0] , (y_train[(alpha > 0) & (alpha < C)])[0]\nb = sup_lab \nfor i in range(len(X_train)):\n    b += -alpha[i]*y_train[i]*inner_prod(sup_vec,X_train[i,:],kernel,c,deg)\n#b = y_train[(alpha > 0) & (alpha < C)][0] - np.dot(w,X_train[(alpha > 0) & (alpha < C)][0])",
      "execution_count": 14,
      "outputs": []
    },
    {
      "metadata": {
        "_uuid": "0d1d4676674ebce1c8abd1da0ebc30b5e9dc7f34"
      },
      "cell_type": "markdown",
      "source": "With this, we can build the prediction function:"
    },
    {
      "metadata": {
        "trusted": true,
        "_uuid": "1440c5e3027132f81c60c51c40a92db7a6a5da22"
      },
      "cell_type": "code",
      "source": "def predict(x,b,alpha):\n    w_dot_phi_x = 0\n    for i in range(len(X_train)):\n        w_dot_phi_x += alpha[i]*y_train[i]*inner_prod(x,X_train[i,:],kernel,c,deg)\n    return np.sign(w_dot_phi_x + b)",
      "execution_count": 15,
      "outputs": []
    },
    {
      "metadata": {
        "_uuid": "4642ebb91cbb509cc2077fe26ad2c86968e4ef5c"
      },
      "cell_type": "markdown",
      "source": "Finally, we can plot the decision boundary given by the SVM as well as the regions predicted for each class. We can see how the separating hyperplane maximizes the margin to both classes."
    },
    {
      "metadata": {
        "trusted": true,
        "_uuid": "98a44a029aeef73ae3b5434bcde4338df1f66e23"
      },
      "cell_type": "code",
      "source": "plt.plot(x0[:,0],x0[:,1],'x',color='red')\nplt.plot(x1[:,0],x1[:,1],'x',color='blue')\nplt.plot(x2[:,0],x2[:,1],'x',color='red')\nplt.figtext(0.5, 0.01, 'Figure 2: SVM decision boundary', \n            wrap=True, horizontalalignment='center', fontsize=12)\n\nx = np.linspace(-5, 5, 200)\ny = np.linspace(-5, 5, 200)\nX, Y = np.meshgrid(x, y)\nz = np.zeros(X.shape)\nZ = np.array(z)\nfor i in range(Z.shape[0]):\n    for j in range(Z.shape[1]):\n        Z[i,j] = predict(np.array([x[j],y[i]]),b,alpha)\nplt.contourf(X, Y, Z, alpha=.5, cmap='jet_r')\nC = plt.contour(X, Y, Z,  colors='black',zorder=4)\nplt.axis('equal')\nplt.show()",
      "execution_count": 16,
      "outputs": [
        {
          "output_type": "display_data",
          "data": {
            "text/plain": "<Figure size 432x288 with 1 Axes>",
            "image/png": "[encoded data removed]"
          },
          "metadata": {}
        }
      ]
    },
    {
      "metadata": {
        "_uuid": "835d5be8da0bf460e03d0b95a95c6b06fa6727d0"
      },
      "cell_type": "markdown",
      "source": "We can check the support vectors and plot them together with the separating hyperplane"
    },
    {
      "metadata": {
        "trusted": true,
        "_uuid": "4f44e666d554ce2bb474bc94834d76433bfe999f"
      },
      "cell_type": "code",
      "source": "",
      "execution_count": null,
      "outputs": []
    },
    {
      "metadata": {
        "trusted": true,
        "_uuid": "282b83ac5feca00c626be63acdb19d2735fbf967",
        "scrolled": true
      },
      "cell_type": "code",
      "source": "sup_vect = X_train[alpha > 0]\nsup_vect",
      "execution_count": 17,
      "outputs": [
        {
          "output_type": "execute_result",
          "execution_count": 17,
          "data": {
            "text/plain": "array([[-1.44947485,  2.68917663],\n       [-0.09130799,  0.81118772],\n       [-0.60516755,  0.20963153],\n       [-3.91249753,  1.07617607],\n       [-0.74224566, -0.29070263],\n       [-0.15371931,  1.57913572],\n       [ 2.85582217,  1.99388338],\n       [-0.12546442,  0.53974018],\n       [ 1.12022024, -0.91372616],\n       [ 0.0452582 , -1.3658609 ],\n       [ 0.44251188, -1.02422923],\n       [ 1.96730829, -1.3090177 ],\n       [ 2.58469139, -1.35865739],\n       [ 0.89833321, -1.1610744 ],\n       [ 1.69569856, -4.79477916],\n       [-0.41635616, -2.88761379]])"
          },
          "metadata": {}
        }
      ]
    },
    {
      "metadata": {
        "trusted": true,
        "_uuid": "dc5a969d0d5e50c1b52abd8c6acbf06eb9e83bbd"
      },
      "cell_type": "code",
      "source": "plt.plot(x0[:,0],x0[:,1],'x',color='red')\nplt.plot(x1[:,0],x1[:,1],'x',color='blue')\nplt.figtext(0.5, 0.01, 'Figure 3: support vectors defining the separating hyperplane', \n            wrap=True, horizontalalignment='center', fontsize=12)\n\nx = np.linspace(-5, 5, 200)\ny = np.linspace(-5, 5, 200)\nX, Y = np.meshgrid(x, y)\nplt.contourf(X, Y, Z, alpha=.5, cmap='jet_r')\nC = plt.contour(X, Y, Z,  colors='black',zorder=4)\nplt.plot(sup_vect[:,0],sup_vect[:,1],'o',color='green')\n\n\nplt.axis('equal')\nplt.show()",
      "execution_count": 18,
      "outputs": [
        {
          "output_type": "display_data",
          "data": {
            "text/plain": "<Figure size 432x288 with 1 Axes>",
            "image/png": "[encoded data removed]"
          },
          "metadata": {}
        }
      ]
    },
    {
      "metadata": {
        "trusted": true,
        "_uuid": "3794d4d5b722d19532d5039af6861a077e3a4552"
      },
      "cell_type": "markdown",
      "source": "## Final remarks\n\n"
    },
    {
      "metadata": {
        "trusted": true,
        "_uuid": "af1b99ff5fbe14c7f8e9e8ca1c6fc0b38ea15a17"
      },
      "cell_type": "code",
      "source": "",
      "execution_count": null,
      "outputs": []
    },
    {
      "metadata": {
        "trusted": true,
        "_uuid": "6fc99d917c5017e47d1e8a17e91ccc4b9284ebbe"
      },
      "cell_type": "code",
      "source": "",
      "execution_count": null,
      "outputs": []
    },
    {
      "metadata": {
        "trusted": true,
        "_uuid": "4045da4c837db3e308ea73a9bb773849374724d6"
      },
      "cell_type": "code",
      "source": "",
      "execution_count": null,
      "outputs": []
    },
    {
      "metadata": {
        "trusted": true,
        "_uuid": "f89890414a29ab5b398fdb50b529e5320a85a9e0"
      },
      "cell_type": "code",
      "source": "",
      "execution_count": null,
      "outputs": []
    },
    {
      "metadata": {
        "trusted": true,
        "_uuid": "968226057356b74951957c86325489043784d0cc"
      },
      "cell_type": "code",
      "source": "",
      "execution_count": null,
      "outputs": []
    },
    {
      "metadata": {
        "trusted": true,
        "_uuid": "1ad775f0fe65cf18e1ab8a9d34a7ae2469c4dd59"
      },
      "cell_type": "code",
      "source": "",
      "execution_count": null,
      "outputs": []
    },
    {
      "metadata": {
        "trusted": true,
        "_uuid": "be0e481f5f1f32fe997de3d4fc6b922f1515dff3"
      },
      "cell_type": "code",
      "source": "",
      "execution_count": null,
      "outputs": []
    },
    {
      "metadata": {
        "trusted": true,
        "_uuid": "d507eebb87a67b436019a241eee884c62efeb4c7"
      },
      "cell_type": "code",
      "source": "",
      "execution_count": null,
      "outputs": []
    },
    {
      "metadata": {
        "trusted": true,
        "_uuid": "fa4e600f81c2ca60c8726b239295a6b6e476b18e"
      },
      "cell_type": "code",
      "source": "",
      "execution_count": null,
      "outputs": []
    },
    {
      "metadata": {
        "trusted": true,
        "_uuid": "70cffcffeb6c6f4fe86d7a43255104d352db5515"
      },
      "cell_type": "code",
      "source": "",
      "execution_count": null,
      "outputs": []
    },
    {
      "metadata": {
        "trusted": true,
        "_uuid": "fdab542f40fe339dbd4a3b4ed19fce83bdf70b8f"
      },
      "cell_type": "code",
      "source": "",
      "execution_count": null,
      "outputs": []
    },
    {
      "metadata": {
        "trusted": true,
        "_uuid": "d328c65ecb029154025d6961e2de4e69e27833f1"
      },
      "cell_type": "code",
      "source": "",
      "execution_count": null,
      "outputs": []
    },
    {
      "metadata": {
        "trusted": true,
        "_uuid": "1ab53eaa1579314681cd4a16793d011addc613ba"
      },
      "cell_type": "code",
      "source": "",
      "execution_count": null,
      "outputs": []
    }
  ],
  "metadata": {
    "kernelspec": {
      "display_name": "Python 3",
      "language": "python",
      "name": "python3"
    },
    "language_info": {
      "name": "python",
      "version": "3.6.6",
      "mimetype": "text/x-python",
      "codemirror_mode": {
        "name": "ipython",
        "version": 3
      },
      "pygments_lexer": "ipython3",
      "nbconvert_exporter": "python",
      "file_extension": ".py"
    }
  },
  "nbformat": 4,
  "nbformat_minor": 1
}