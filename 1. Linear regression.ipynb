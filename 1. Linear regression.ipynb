{
 "cells": [
  {
   "cell_type": "markdown",
   "metadata": {},
   "source": [
    "# Machine learning from scratch: linear regression\n",
    "\n",
    "## Introduction\n",
    "\n",
    "In this notebook we will investigate the method of linear regression. We will follow a statistical learning approach. We start by importing some useful scientifc libraries."
   ]
  },
  {
   "cell_type": "code",
   "execution_count": 1,
   "metadata": {},
   "outputs": [],
   "source": [
    "import numpy as np\n",
    "import matplotlib.pyplot as plt"
   ]
  },
  {
   "cell_type": "markdown",
   "metadata": {},
   "source": [
    "We generate (pseudo) random data following a linear trend. For this, we will start by generating linear data and then adding random noise. "
   ]
  },
  {
   "cell_type": "code",
   "execution_count": 2,
   "metadata": {},
   "outputs": [
    {
     "data": {
      "image/png": "[encoded data removed]",
      "text/plain": [
       "<matplotlib.figure.Figure at 0x114d32198>"
      ]
     },
     "metadata": {},
     "output_type": "display_data"
    }
   ],
   "source": [
    "#set the number of observations\n",
    "num_obs = 200\n",
    "\n",
    "#We generate random data that follows approximately a straight line with\n",
    "#known parameters and known fluctuations\n",
    "X = np.arange(0,1,1/num_obs)\n",
    "y = 3*X + 2\n",
    "\n",
    "#Now we add the random fluctuations\n",
    "noise = np.random.normal(0,0.5,num_obs)\n",
    "y = y + noise\n",
    "\n",
    "#Now we plot the data\n",
    "plt.plot(X,y,'ro')\n",
    "plt.show()"
   ]
  },
  {
   "cell_type": "markdown",
   "metadata": {},
   "source": [
    "The model we want to fit to this data is linear: that means that it will be defined by parameters $\\alpha,\\beta,\\gamma$ and the predicting line is then given by $\\ell = \\{ (x_1,x_2):\\ \\alpha +x_1\\beta +x_2\\gamma =0 \\}$. If we assume that $\\gamma\\neq 0$ then we can reparametrize our model as $\\ell=\\{ (x_1,x_2): x_2 = f(x_1)=\\theta_0+x_1\\theta_1\\}$.\n",
    "\n",
    "## The model\n",
    "\n",
    "As mentioned above, we will try to find the line $\\ell$ that fits the data *the best possible way*. This is rather vague, so we need a precise notion of how well a line fits the data. Suppose we count with a collection of examples $X=\\{x^{(1)},\\dots,x^{(m)} \\}$ labeled with values $y=\\{ y^{(i)}\\}$ which give rise to a prediction function $f(z)=\\theta_0+z\\theta_1$. In particular we can compare the predicted value $f(x^{i})$ to the **actual** value of the observed data $y^{(i)}$. This is, we assess how well our predicting function $f$ predicts on the set we used to construct it. We stress that this is to fit the model, not to asses its performance on  future predictions. This idea is central to many models, as estimating the accuracy of predictions by assessing the model with the training data does not yield precise information about the generalization of such predictions to previously unseen data.\n",
    "\n",
    "In order to assess the performance of the model for a given choice of parameters, we compute the mean square error. We could make different choices for the error function, but this one behaves particularly well as it makes some computations relatively easy (such as the gradient computation). With the notation introduced before, the mean square error is defined as\n",
    "\n",
    "$$\n",
    "\\text{MSE}= J(\\theta_0,\\theta_1)=\\dfrac{1}{2m}\\displaystyle\\sum_{i=1}^m (y^{(i)}-f(x^{(i)}))^2 = \\dfrac{1}{2m}\\displaystyle\\sum_{i=1}^m (y^{(i)}- (\\theta_0+ x_1^{(i)}\\theta_1) ))^2.\n",
    "$$\n"
   ]
  },
  {
   "cell_type": "markdown",
   "metadata": {},
   "source": [
    "## Finding the appropriate parameters\n",
    "\n",
    "This can be done in several ways, but we describe two: the normal equations and the gradient descent method.\n",
    "\n",
    "#### Normal equations\n",
    "\n",
    "For this approach, we first vectorize our dataset and the MSE. First, construct a matrix $X$ by stacking all the training points $\\{x^{(1)},\\dots,x^{(m)} \\}$ as rows of this matrix, as well as a column of $1$'s. Hence, each row of $X$ is of the form $[1,x^{(i)}]$. We also stack all the labels $\\{y^{(1)},\\dots,y^{(m)} \\}$ of these points in a vector $y$. Then we can write the MSE in matrix form as\n",
    "\n",
    "$$\n",
    "J = \\dfrac{1}{2m}(X\\theta-y)^T(X\\theta-y).\n",
    "$$\n",
    "\n",
    "In order to find a minimum, a necessesary condition is that the gradient of our function vanishes. Proceding componentwise, we can show that the gradient of $J$ is given by\n",
    "\n",
    "$$\n",
    "\\nabla J = \\dfrac{1}{m}(X^TX\\theta- X^Ty).\n",
    "$$\n",
    "\n",
    "If we equate this to zero, we obtain the necessary equations to have a minimum for the MSE with respect to the parameters $\\theta$:\n",
    "\n",
    "$$\n",
    "\\theta = (X^TX)^{-1}X^Ty.\n",
    "$$\n",
    "\n",
    "Since these equations involve computing the inverse of a matrix, this approach can be computationally expensive.\n",
    "\n",
    "\n",
    "\n",
    "\n",
    "\n"
   ]
  },
  {
   "cell_type": "markdown",
   "metadata": {},
   "source": [
    "#### Training the model: Gradient descent\n",
    "\n",
    "Another approach to find a minimum is via statistical learning, particularly by using the method of gradient descent. This method relies on the simple fact that for a function $J=J(\\theta)$, its gradient $\\nabla J$ points in the direction of maximal/minimal growth. Thus, if we follow the direction of the gradient over time, we should end up at a local minimum. Throughout the whole process we compute $J$ and $\\nabla J$ with the data set $X,y$ as a fixed parameter, so we omit their dependence. We can summarize the algorithm by\n",
    "\n",
    "\n",
    "\\begin{align*}\n",
    "& 1. \\  \\text{intialize } \\theta \\text{ to a random value} \\\\\n",
    "& 2. \\ \\text{for } i = 1\\dots \\text{ num_steps do}  \\\\\n",
    "& \\qquad 2a. \\ \\text{compute the gradient }\\nabla J(\\theta) \\\\\n",
    "& \\qquad 2b. \\ \\text{update the parameters }\\theta \\text{ by } \\theta \\leftarrow \\theta - \\alpha\\nabla J \\\\\n",
    "& 3. \\ \\text{return } \\theta\n",
    "\\end{align*}\n",
    "\n",
    "Here $\\alpha$ is the learning rate, which controls the weight with which we update the paramters $\\theta$. This is a [hyperparameter](https://en.wikipedia.org/wiki/Hyperparameter) of the model and has to be optimized via cross validation methods. With this method, we use **all** training examples in every iteration of the algorithm. This can be computationally expensive, and there are alternatives such as mini-batch gradient descent or stochastic gradient descent. We will explore such algorithms in future notebooks."
   ]
  },
  {
   "cell_type": "markdown",
   "metadata": {},
   "source": [
    "## Building the algorithm\n",
    "\n",
    "We already defined our training data set $X,y$. We start by initializing the parameters $\\theta$:"
   ]
  },
  {
   "cell_type": "code",
   "execution_count": 3,
   "metadata": {},
   "outputs": [],
   "source": [
    "theta = 2*np.random.rand(2)-1"
   ]
  },
  {
   "cell_type": "markdown",
   "metadata": {},
   "source": [
    "Now we build the cost function and the gradient of the cost function:"
   ]
  },
  {
   "cell_type": "code",
   "execution_count": 4,
   "metadata": {},
   "outputs": [],
   "source": [
    "def cost_function(X, y, theta):\n",
    "    m = len(X)\n",
    "    M = np.hstack(((np.ones(len(X))).reshape(-1,1),X.reshape(-1,1)))\n",
    "    return (1/(2*m))*np.dot((np.dot(M,theta)-y).T,(np.dot(M,theta)-y))\n",
    "\n",
    "def gradient(X,y,theta):\n",
    "    m = len(X)\n",
    "    M = np.hstack(((np.ones(len(X))).reshape(-1,1),X.reshape(-1,1)))\n",
    "    return (1/m)*(np.dot(np.dot(M.T,M),theta)-np.dot(M.T,y))\n"
   ]
  },
  {
   "cell_type": "markdown",
   "metadata": {},
   "source": [
    "Finally, we define the iterative process. This function will return the learned parameters of the system. We include the initialization process in this function, so we do not need of a starting parameter."
   ]
  },
  {
   "cell_type": "code",
   "execution_count": 5,
   "metadata": {},
   "outputs": [],
   "source": [
    "def linear_regression(X, y, num_steps, learn_rate):\n",
    "    theta = 2*np.random.rand(2)-1\n",
    "    for i in range(0,num_steps):\n",
    "        theta = theta - learn_rate*gradient(X,y,theta)\n",
    "    return theta"
   ]
  },
  {
   "cell_type": "markdown",
   "metadata": {},
   "source": [
    "Now we can run our algorithm and learn the parameters for the linear regression. We can plot the corresponding line and see how it fits the data."
   ]
  },
  {
   "cell_type": "code",
   "execution_count": 6,
   "metadata": {},
   "outputs": [
    {
     "data": {
      "image/png": "[encoded data removed]",
      "text/plain": [
       "<matplotlib.figure.Figure at 0x114d32048>"
      ]
     },
     "metadata": {},
     "output_type": "display_data"
    }
   ],
   "source": [
    "[a,b]=linear_regression(X, y, 5000 , 1)\n",
    "linear_fit =  b*X+a\n",
    "plt.plot(X,y,'ro')\n",
    "plt.plot(X,linear_fit)\n",
    "plt.show()\n"
   ]
  },
  {
   "cell_type": "markdown",
   "metadata": {},
   "source": [
    "We can also use this parameters to perform future predictions:"
   ]
  },
  {
   "cell_type": "code",
   "execution_count": 7,
   "metadata": {},
   "outputs": [
    {
     "data": {
      "text/plain": [
       "4.975218592849181"
      ]
     },
     "execution_count": 7,
     "metadata": {},
     "output_type": "execute_result"
    }
   ],
   "source": [
    "def predict(z,theta):\n",
    "    return theta[0]+theta[1]*z\n",
    "\n",
    "predict(1,[a,b])"
   ]
  },
  {
   "cell_type": "markdown",
   "metadata": {},
   "source": [
    "In future notebooks we will investigate how to evaluate the performance of such predictors. We also point out that even though this algorithm was implemented using only one dimensional features, the idea generalizes trivially to higher dimensional data."
   ]
  }
 ],
 "metadata": {
  "kernelspec": {
   "display_name": "Python 3",
   "language": "python",
   "name": "python3"
  },
  "language_info": {
   "codemirror_mode": {
    "name": "ipython",
    "version": 3
   },
   "file_extension": ".py",
   "mimetype": "text/x-python",
   "name": "python",
   "nbconvert_exporter": "python",
   "pygments_lexer": "ipython3",
   "version": "3.6.4"
  }
 },
 "nbformat": 4,
 "nbformat_minor": 2
}
